{
  "cells": [
    {
      "cell_type": "code",
      "execution_count": 1,
      "metadata": {
        "colab": {
          "base_uri": "https://localhost:8080/"
        },
        "id": "qyzQOruBxDHW",
        "outputId": "2efa6bd2-002e-4faa-dde2-f0ee438924ed"
      },
      "outputs": [
        {
          "output_type": "stream",
          "name": "stdout",
          "text": [
            "\u001b[2K     \u001b[90m━━━━━━━━━━━━━━━━━━━━━━━━━━━━━━━━━━━━━━━━\u001b[0m \u001b[32m73.6/73.6 kB\u001b[0m \u001b[31m2.9 MB/s\u001b[0m eta \u001b[36m0:00:00\u001b[0m\n",
            "\u001b[2K     \u001b[90m━━━━━━━━━━━━━━━━━━━━━━━━━━━━━━━━━━━━━━━\u001b[0m \u001b[32m114.5/114.5 kB\u001b[0m \u001b[31m9.5 MB/s\u001b[0m eta \u001b[36m0:00:00\u001b[0m\n",
            "\u001b[2K     \u001b[90m━━━━━━━━━━━━━━━━━━━━━━━━━━━━━━━━━━━━━━\u001b[0m \u001b[32m719.0/719.0 kB\u001b[0m \u001b[31m23.9 MB/s\u001b[0m eta \u001b[36m0:00:00\u001b[0m\n",
            "\u001b[2K     \u001b[90m━━━━━━━━━━━━━━━━━━━━━━━━━━━━━━━━━━━━━━━━\u001b[0m \u001b[32m88.3/88.3 kB\u001b[0m \u001b[31m11.1 MB/s\u001b[0m eta \u001b[36m0:00:00\u001b[0m\n",
            "\u001b[?25h  Preparing metadata (setup.py) ... \u001b[?25l\u001b[?25hdone\n",
            "\u001b[2K     \u001b[90m━━━━━━━━━━━━━━━━━━━━━━━━━━━━━━━━━━━━━━\u001b[0m \u001b[32m519.2/519.2 kB\u001b[0m \u001b[31m47.1 MB/s\u001b[0m eta \u001b[36m0:00:00\u001b[0m\n",
            "\u001b[2K     \u001b[90m━━━━━━━━━━━━━━━━━━━━━━━━━━━━━━━━━━━━━━━━\u001b[0m \u001b[32m1.0/1.0 MB\u001b[0m \u001b[31m54.6 MB/s\u001b[0m eta \u001b[36m0:00:00\u001b[0m\n",
            "\u001b[2K     \u001b[90m━━━━━━━━━━━━━━━━━━━━━━━━━━━━━━━━━━━━━━\u001b[0m \u001b[32m149.6/149.6 kB\u001b[0m \u001b[31m13.4 MB/s\u001b[0m eta \u001b[36m0:00:00\u001b[0m\n",
            "\u001b[2K     \u001b[90m━━━━━━━━━━━━━━━━━━━━━━━━━━━━━━━━━━━━━━\u001b[0m \u001b[32m268.8/268.8 kB\u001b[0m \u001b[31m29.8 MB/s\u001b[0m eta \u001b[36m0:00:00\u001b[0m\n",
            "\u001b[2K     \u001b[90m━━━━━━━━━━━━━━━━━━━━━━━━━━━━━━━━━━━━━━\u001b[0m \u001b[32m114.5/114.5 kB\u001b[0m \u001b[31m15.1 MB/s\u001b[0m eta \u001b[36m0:00:00\u001b[0m\n",
            "\u001b[?25h  Building wheel for fire (setup.py) ... \u001b[?25l\u001b[?25hdone\n"
          ]
        }
      ],
      "source": [
        "!pip install libauc medmnist tensorboardX pytorch_lightning --quiet"
      ]
    },
    {
      "cell_type": "code",
      "execution_count": 2,
      "metadata": {
        "id": "ijHEGI4SxQDT"
      },
      "outputs": [],
      "source": [
        "# Import required libraries\n",
        "from tqdm import tqdm\n",
        "import os\n",
        "import numpy as np\n",
        "import torch\n",
        "import torch.nn as nn\n",
        "import torch.optim as optim\n",
        "import torch.utils.data as data\n",
        "from libauc.losses import AUCMLoss\n",
        "from libauc.losses import AUCM_MultiLabel\n",
        "from libauc.optimizers import PESG\n",
        "from libauc.losses import APLoss\n",
        "from libauc.losses.auc import pAUCLoss\n",
        "from libauc.models import resnet18 as ResNet18\n",
        "from libauc.optimizers import SOAP, SOPA\n",
        "import torchvision.transforms as transforms\n",
        "from libauc.sampler import DualSampler\n",
        "from torch.utils.data import Dataset\n",
        "import medmnist\n",
        "from medmnist import INFO, Evaluator\n",
        "from torch.utils.data import random_split\n",
        "from libauc.metrics import auc_roc_score\n",
        "from sklearn.metrics import accuracy_score, roc_auc_score\n",
        "from libauc.metrics import auc_prc_score\n",
        "from libauc.metrics import pauc_roc_score\n",
        "# from libauc.utils import auroc\n",
        "import torchvision\n",
        "from PIL import Image\n",
        "import warnings\n",
        "warnings.filterwarnings(\"ignore\")\n",
        "import logging\n",
        "logging.getLogger('lightning').setLevel(0)\n",
        "logging.getLogger(\"pytorch_lightning\").setLevel(logging.WARNING)\n",
        "logging.getLogger(\"lightning.pytorch.utilities.rank_zero\").setLevel(logging.WARNING)\n",
        "logging.getLogger(\"lightning.pytorch.accelerators.cuda\").setLevel(logging.WARNING)\n",
        "logging.disable(logging.CRITICAL)"
      ]
    },
    {
      "cell_type": "code",
      "source": [
        "# Test Data\n",
        "class ImageDataset(Dataset):\n",
        "    def __init__(self, images, targets, image_size=32, crop_size=25, mode='train', data_aug_flag=False, data_flag=''):\n",
        "        self.images = images.astype(np.uint8)\n",
        "        self.targets = targets\n",
        "        self.mode = mode\n",
        "        self.data_aug_flag = data_aug_flag\n",
        "        self.transform_train = transforms.Compose([                                                \n",
        "                              transforms.ToTensor(),\n",
        "                              transforms.Normalize(mean=[.5], std=[.5])\n",
        "                              ])\n",
        "        self.transform_test = transforms.Compose([\n",
        "                             transforms.ToTensor(),\n",
        "                             transforms.Normalize(mean=[.5], std=[.5])\n",
        "                              ])\n",
        "        if data_flag == 'synapsemnist3d':\n",
        "              self.transform_test = transforms.Compose([\n",
        "                             transforms.ToTensor(),\n",
        "                             transforms.Resize((32, 32)),\n",
        "                             transforms.Normalize(mean=[.5], std=[.5])\n",
        "                              ])\n",
        "\n",
        "\n",
        "    def __len__(self):\n",
        "        return len(self.images)\n",
        "\n",
        "    def __getitem__(self, idx):\n",
        "        image = self.images[idx]\n",
        "        target = self.targets[idx]\n",
        "        if self.mode == 'train':\n",
        "           image = self.transform_train(image)\n",
        "        else:\n",
        "           image = self.transform_test(image)\n",
        "        return idx, image, target \n",
        "\n",
        "def test(model, data_flag, BATCH_SIZE):\n",
        "    info = INFO[data_flag]\n",
        "    task = info['task']\n",
        "    n_channels = info['n_channels']\n",
        "    n_classes = len(info['label'])\n",
        "\n",
        "    DataClass = getattr(medmnist, info['python_class'])\n",
        "    test_dataset = DataClass(split='test', download=True)\n",
        "    test_data = test_dataset.imgs \n",
        "    if data_flag != 'chestmnist':\n",
        "        test_labels = test_dataset.labels[:, 0] \n",
        "        test_labels[test_labels != 0] = 99\n",
        "        test_labels[test_labels == 0] = 1\n",
        "        test_labels[test_labels == 99] = 0\n",
        "    else:\n",
        "        test_labels = test_dataset.labels\n",
        "\n",
        "    # test_data = test_data/255.0 \n",
        "    testSet = ImageDataset(test_data, test_labels, mode='test', data_flag=data_flag)\n",
        "    test_loader = torch.utils.data.DataLoader(testSet, batch_size=BATCH_SIZE, shuffle=False, num_workers=0)\n",
        "\n",
        "    model.eval()\n",
        "    best_val_auc = 0\n",
        "    train_pred_list = []\n",
        "    train_true_list = []\n",
        "    with torch.no_grad():\n",
        "        for index, inputs, targets in test_loader:\n",
        "            inputs  = inputs.cuda()\n",
        "            outputs = model(inputs)\n",
        "            train_pred_list.append(outputs.cpu().detach().numpy())\n",
        "            train_true_list.append(targets.numpy())\n",
        "        train_true = np.concatenate(train_true_list)\n",
        "        train_pred = np.concatenate(train_pred_list)\n",
        "        train_auc = np.mean(auc_roc_score(train_true, train_pred))\n",
        "        train_pauc = np.mean(auc_prc_score(train_true, train_pred))\n",
        "        best_auc = train_auc\n",
        "        if data_flag in ['adrenalmnist3d','vesselmnist3d','nodulemnist3d']:\n",
        "            best_auc = train_pauc\n",
        "        if best_val_auc < train_auc:\n",
        "            best_val_auc = train_auc\n",
        "        print('AUC for test is: ' + str(best_auc))\n",
        "    return None"
      ],
      "metadata": {
        "id": "0kKMMkVTpSr5"
      },
      "execution_count": 28,
      "outputs": []
    },
    {
      "cell_type": "code",
      "execution_count": 4,
      "metadata": {
        "colab": {
          "base_uri": "https://localhost:8080/"
        },
        "id": "L4Sq5uCJJlkj",
        "outputId": "3c128cd3-8608-4739-a8ed-bedc081da329"
      },
      "outputs": [
        {
          "output_type": "stream",
          "name": "stdout",
          "text": [
            "==> Evaluating ...\n",
            "\n",
            "\n",
            "Downloading https://zenodo.org/record/6496656/files/breastmnist.npz?download=1 to /root/.medmnist/breastmnist.npz\n"
          ]
        },
        {
          "output_type": "stream",
          "name": "stderr",
          "text": [
            "100%|██████████| 559580/559580 [00:01<00:00, 290382.12it/s]\n"
          ]
        },
        {
          "output_type": "stream",
          "name": "stdout",
          "text": [
            "AUC for test is: 0.9312865497076024\n"
          ]
        }
      ],
      "source": [
        "# Breast MNIST\n",
        "model = ResNet18(pretrained=False)\n",
        "model.conv1 = nn.Conv2d(1, 64, kernel_size=(7, 7), stride=(2, 2), padding=(3, 3), bias=False)\n",
        "model.load_state_dict(torch.load('breast_mnist_model.pt'))\n",
        "model = model.cuda()\n",
        "print('==> Evaluating ...')\n",
        "print('\\n')\n",
        "test(model, 'breastmnist', 256)"
      ]
    },
    {
      "cell_type": "code",
      "execution_count": 5,
      "metadata": {
        "colab": {
          "base_uri": "https://localhost:8080/"
        },
        "id": "JYMmkB-wOIRY",
        "outputId": "ebaea0be-5192-4889-cda1-34e3efff897d"
      },
      "outputs": [
        {
          "output_type": "stream",
          "name": "stdout",
          "text": [
            "==> Evaluating ...\n",
            "\n",
            "\n",
            "Downloading https://zenodo.org/record/6496656/files/pneumoniamnist.npz?download=1 to /root/.medmnist/pneumoniamnist.npz\n"
          ]
        },
        {
          "output_type": "stream",
          "name": "stderr",
          "text": [
            "100%|██████████| 4170669/4170669 [00:14<00:00, 278106.33it/s]"
          ]
        },
        {
          "output_type": "stream",
          "name": "stdout",
          "text": [
            "AUC for test is: 0.9624863028709183\n"
          ]
        },
        {
          "output_type": "stream",
          "name": "stderr",
          "text": [
            "\n"
          ]
        }
      ],
      "source": [
        "# Pneumonia MNIST\n",
        "model = ResNet18(pretrained=False)\n",
        "model.conv1 = nn.Conv2d(1, 64, kernel_size=(7, 7), stride=(2, 2), padding=(3, 3), bias=False)\n",
        "model.load_state_dict(torch.load('pneumonia_mnist_model.pt'))\n",
        "model = model.cuda()\n",
        "print('==> Evaluating ...')\n",
        "print('\\n')\n",
        "test(model, 'pneumoniamnist', 256)"
      ]
    },
    {
      "cell_type": "code",
      "execution_count": 29,
      "metadata": {
        "id": "2BOnLaOEgCdZ",
        "colab": {
          "base_uri": "https://localhost:8080/"
        },
        "outputId": "59733a4a-7879-4a60-9760-12127bd11ea8"
      },
      "outputs": [
        {
          "output_type": "stream",
          "name": "stdout",
          "text": [
            "==> Evaluating ...\n",
            "Using downloaded and verified file: /root/.medmnist/chestmnist.npz\n",
            "AUC for test is: 0.7278451652570814\n"
          ]
        }
      ],
      "source": [
        "# Chest MNIST\n",
        "from torchvision.models import resnet18\n",
        "model =  resnet18(pretrained=False, num_classes=14)\n",
        "model.conv1 = nn.Conv2d(1, 64, kernel_size=(7, 7), stride=(2, 2), padding=(3, 3), bias=False)\n",
        "model.load_state_dict(torch.load('chest_mnist_model.pt'))\n",
        "model = model.cuda()\n",
        "print('==> Evaluating ...')\n",
        "test(model, 'chestmnist', 256)"
      ]
    },
    {
      "cell_type": "code",
      "source": [
        "# Nodule MNIST\n",
        "model = ResNet18(pretrained=False)\n",
        "model.conv1 = nn.Conv2d(28, 64, kernel_size=(7, 7), stride=(2, 2), padding=(3, 3), bias=False)\n",
        "model.load_state_dict(torch.load('nodule_mnist_prc_model.pt'))\n",
        "model = model.cuda()\n",
        "print('==> Evaluating ...')\n",
        "print('\\n')\n",
        "test(model, 'nodulemnist3d', 256)"
      ],
      "metadata": {
        "colab": {
          "base_uri": "https://localhost:8080/"
        },
        "id": "aTFLd8krnc9F",
        "outputId": "f3a47049-2a8b-4a05-97df-2bcfc486876e"
      },
      "execution_count": 8,
      "outputs": [
        {
          "output_type": "stream",
          "name": "stdout",
          "text": [
            "==> Evaluating ...\n",
            "\n",
            "\n",
            "Downloading https://zenodo.org/record/6496656/files/nodulemnist3d.npz?download=1 to /root/.medmnist/nodulemnist3d.npz\n"
          ]
        },
        {
          "output_type": "stream",
          "name": "stderr",
          "text": [
            "100%|██████████| 29299364/29299364 [01:47<00:00, 273379.79it/s]\n"
          ]
        },
        {
          "output_type": "stream",
          "name": "stdout",
          "text": [
            "AUC for test is: 0.9482103522389413\n"
          ]
        }
      ]
    },
    {
      "cell_type": "code",
      "source": [
        "# Adrenal MNIST\n",
        "model = ResNet18(pretrained=False)\n",
        "model.conv1 = nn.Conv2d(28, 64, kernel_size=(7, 7), stride=(2, 2), padding=(3, 3), bias=False)\n",
        "model.load_state_dict(torch.load('adrenal_mnist_prc_model.pt'))\n",
        "model = model.cuda()\n",
        "print('==> Evaluating ...')\n",
        "print('\\n')\n",
        "test(model, 'adrenalmnist3d', 256)"
      ],
      "metadata": {
        "colab": {
          "base_uri": "https://localhost:8080/"
        },
        "id": "JHYnReSzraY5",
        "outputId": "5d07287e-9349-4352-8804-95f7c71e371e"
      },
      "execution_count": 9,
      "outputs": [
        {
          "output_type": "stream",
          "name": "stdout",
          "text": [
            "==> Evaluating ...\n",
            "\n",
            "\n",
            "Downloading https://zenodo.org/record/6496656/files/adrenalmnist3d.npz?download=1 to /root/.medmnist/adrenalmnist3d.npz\n"
          ]
        },
        {
          "output_type": "stream",
          "name": "stderr",
          "text": [
            "100%|██████████| 276833/276833 [00:01<00:00, 233491.42it/s]"
          ]
        },
        {
          "output_type": "stream",
          "name": "stdout",
          "text": [
            "AUC for test is: 0.9404990524475865\n"
          ]
        },
        {
          "output_type": "stream",
          "name": "stderr",
          "text": [
            "\n"
          ]
        }
      ]
    },
    {
      "cell_type": "code",
      "source": [
        "# Vessel MNIST\n",
        "model = ResNet18(pretrained=False)\n",
        "model.conv1 = nn.Conv2d(28, 64, kernel_size=(7, 7), stride=(2, 2), padding=(3, 3), bias=False)\n",
        "model.load_state_dict(torch.load('vessel_mnist_prc_model.pt'))\n",
        "model = model.cuda()\n",
        "print('==> Evaluating ...')\n",
        "print('\\n')\n",
        "test(model, 'vesselmnist3d', 256)"
      ],
      "metadata": {
        "colab": {
          "base_uri": "https://localhost:8080/"
        },
        "id": "2E_aalLzxWRy",
        "outputId": "c4d6574d-6fb4-4941-dcce-b8e3c6d3be97"
      },
      "execution_count": 10,
      "outputs": [
        {
          "output_type": "stream",
          "name": "stdout",
          "text": [
            "==> Evaluating ...\n",
            "\n",
            "\n",
            "Downloading https://zenodo.org/record/6496656/files/vesselmnist3d.npz?download=1 to /root/.medmnist/vesselmnist3d.npz\n"
          ]
        },
        {
          "output_type": "stream",
          "name": "stderr",
          "text": [
            "100%|██████████| 398373/398373 [00:01<00:00, 241067.12it/s]"
          ]
        },
        {
          "output_type": "stream",
          "name": "stdout",
          "text": [
            "AUC for test is: 0.9751638697864619\n"
          ]
        },
        {
          "output_type": "stream",
          "name": "stderr",
          "text": [
            "\n"
          ]
        }
      ]
    },
    {
      "cell_type": "code",
      "execution_count": 31,
      "metadata": {
        "id": "r0pBptU70o7S",
        "colab": {
          "base_uri": "https://localhost:8080/"
        },
        "outputId": "cedab643-333b-406d-cfb9-a9efb7277a9c"
      },
      "outputs": [
        {
          "output_type": "stream",
          "name": "stdout",
          "text": [
            "==> Evaluating ...\n",
            "\n",
            "\n",
            "Using downloaded and verified file: /root/.medmnist/synapsemnist3d.npz\n",
            "AUC for test is: 0.79295515052222\n"
          ]
        }
      ],
      "source": [
        "# Synapse MNIST\n",
        "model = ResNet18(pretrained=False)\n",
        "model.conv1 = nn.Conv2d(28, 64, kernel_size=(7, 7), stride=(2, 2), padding=(3, 3), bias=False)\n",
        "model.load_state_dict(torch.load('synapse_mnist_model.pth'))\n",
        "model = model.cuda()\n",
        "print('==> Evaluating ...')\n",
        "print('\\n')\n",
        "test(model, 'synapsemnist3d', 256)"
      ]
    },
    {
      "cell_type": "code",
      "source": [
        "# For reproducing code, from original ipynb file copy and the methods and execute with these params\n",
        "# Breast MNIST\n",
        "model, train_log, val_log = load_train_test_data('breastmnist', 100, 0.25, 0, False, False, 0.1, 128, 0.9, 'pesg', 1e-5, 1e-3, 100)\n",
        "print('==> Evaluating ...')\n",
        "test(model, 'breastmnist', 256)\n",
        "# Pnuemonia MNIST\n",
        "model, train_log, val_log = load_train_test_data('pneumoniamnist', 100, 0.25, 0, False, False, 0.01, 128, 0.9, 'pesg', 1e-2, 0.1, 100)\n",
        "print('==> Evaluating ...')\n",
        "test(model, 'pneumoniamnist', 256)\n",
        "# Chest MNIST\n",
        "imratio_list = [0.1, 0, 0.1, 0.2, 0,\n",
        "       0, 0, 0 , 0, 0,\n",
        "       0, 0, 0, 0]\n",
        "model, train_log, val_log = load_train_test_data('chestmnist', 5, imratio_list, 0, False, False, 0.001, 128, 0.9, 'pesg', 1e-3, 0.001, 0.001, 10)\n",
        "print('==> Evaluating ...')\n",
        "test(model, 'chestmnist', 256)\n",
        "#Nodule MNIST\n",
        "model, train_log_prc, val_log_prc = load_train_test_data_prc('nodulemnist3d', 100, 0.25, 0, True, 0.1, 128, 0.9, '', 1e-3, 0.1, 100)\n",
        "print('==> Evaluating ...')\n",
        "test(model, 'nodulemnist3d', 256)\n",
        "# Adrenal MNIST\n",
        "model, train_log_prc, val_log_prc = load_train_test_data_prc('adrenalmnist3d', 100, 0.2, 0, True, 0.1, 128, 0.9, '', 1e-3, 0.1, 100)\n",
        "print('==> Evaluating ...')\n",
        "test(model, 'adrenalmnist3d', 256)\n",
        "# Vessel MNIST\n",
        "model, train_log_prc, val_log_prc = load_train_test_data_prc('vesselmnist3d', 100, 0.1, 0, True, 0.1, 128, 0.9, '', 1e-3, 0.1, 100)\n",
        "print('==> Evaluating ...')\n",
        "test_prc(model, 'vesselmnist3d', 256)\n",
        "# Synapse MNIST\n",
        "model, train_log, val_log = load_train_test_data('synapsemnist3d', 100, 0.27, 0, True, False, 0.1, 128, 0.9, 'pesg', 1e-1, 0, 0)\n",
        "print('==> Evaluating ...')\n",
        "test(model, 'synapsemnist3d', 256)"
      ],
      "metadata": {
        "id": "rF5FMu-pDiGj"
      },
      "execution_count": null,
      "outputs": []
    }
  ],
  "metadata": {
    "accelerator": "GPU",
    "colab": {
      "provenance": [],
      "gpuType": "T4"
    },
    "gpuClass": "standard",
    "kernelspec": {
      "display_name": "Python 3",
      "name": "python3"
    },
    "language_info": {
      "name": "python"
    }
  },
  "nbformat": 4,
  "nbformat_minor": 0
}